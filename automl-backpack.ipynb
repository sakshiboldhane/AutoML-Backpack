{
 "cells": [
  {
   "cell_type": "code",
   "execution_count": null,
   "metadata": {
    "_cell_guid": "b1076dfc-b9ad-4769-8c92-a6c4dae69d19",
    "_kg_hide-output": true,
    "_uuid": "8f2839f25d086af736a60e9eeb907d3b93b6e0e5",
    "execution": {
     "iopub.execute_input": "2025-02-01T01:21:16.91617Z",
     "iopub.status.busy": "2025-02-01T01:21:16.915985Z",
     "iopub.status.idle": "2025-02-01T01:22:06.296822Z",
     "shell.execute_reply": "2025-02-01T01:22:06.295811Z",
     "shell.execute_reply.started": "2025-02-01T01:21:16.916152Z"
    },
    "trusted": true
   },
   "outputs": [],
   "source": [
    "!pip install autogluon\n",
    "!pip install -U ipywidgets"
   ]
  },
  {
   "cell_type": "code",
   "execution_count": null,
   "metadata": {
    "execution": {
     "iopub.execute_input": "2025-02-01T01:22:06.303086Z",
     "iopub.status.busy": "2025-02-01T01:22:06.302868Z",
     "iopub.status.idle": "2025-02-01T01:22:07.279446Z",
     "shell.execute_reply": "2025-02-01T01:22:07.278637Z",
     "shell.execute_reply.started": "2025-02-01T01:22:06.303058Z"
    },
    "trusted": true
   },
   "outputs": [],
   "source": [
    "import pandas as pd\n",
    "train=pd.read_csv('/kaggle/input/playground-series-s5e2/train.csv')\n",
    "train.head()"
   ]
  },
  {
   "cell_type": "code",
   "execution_count": null,
   "metadata": {
    "execution": {
     "iopub.execute_input": "2025-02-01T01:22:13.166857Z",
     "iopub.status.busy": "2025-02-01T01:22:13.166496Z",
     "iopub.status.idle": "2025-02-01T01:22:13.538677Z",
     "shell.execute_reply": "2025-02-01T01:22:13.537929Z",
     "shell.execute_reply.started": "2025-02-01T01:22:13.16683Z"
    },
    "trusted": true
   },
   "outputs": [],
   "source": [
    "test=pd.read_csv('/kaggle/input/playground-series-s5e2/test.csv')\n",
    "test.head()"
   ]
  },
  {
   "cell_type": "code",
   "execution_count": null,
   "metadata": {
    "execution": {
     "iopub.execute_input": "2025-02-01T01:22:14.011278Z",
     "iopub.status.busy": "2025-02-01T01:22:14.011002Z",
     "iopub.status.idle": "2025-02-01T01:22:14.126066Z",
     "shell.execute_reply": "2025-02-01T01:22:14.125334Z",
     "shell.execute_reply.started": "2025-02-01T01:22:14.011257Z"
    },
    "trusted": true
   },
   "outputs": [],
   "source": [
    "train.info()"
   ]
  },
  {
   "cell_type": "code",
   "execution_count": null,
   "metadata": {
    "execution": {
     "iopub.execute_input": "2025-02-01T01:22:15.735726Z",
     "iopub.status.busy": "2025-02-01T01:22:15.735369Z",
     "iopub.status.idle": "2025-02-01T01:22:15.835235Z",
     "shell.execute_reply": "2025-02-01T01:22:15.834568Z",
     "shell.execute_reply.started": "2025-02-01T01:22:15.735699Z"
    },
    "trusted": true
   },
   "outputs": [],
   "source": [
    "train.nunique()"
   ]
  },
  {
   "cell_type": "code",
   "execution_count": null,
   "metadata": {
    "execution": {
     "iopub.execute_input": "2025-02-01T01:22:15.894089Z",
     "iopub.status.busy": "2025-02-01T01:22:15.893808Z",
     "iopub.status.idle": "2025-02-01T01:22:15.920074Z",
     "shell.execute_reply": "2025-02-01T01:22:15.919214Z",
     "shell.execute_reply.started": "2025-02-01T01:22:15.894069Z"
    },
    "trusted": true
   },
   "outputs": [],
   "source": [
    "train=train.drop(['id'],axis=1)\n",
    "train.head()"
   ]
  },
  {
   "cell_type": "code",
   "execution_count": null,
   "metadata": {
    "execution": {
     "iopub.execute_input": "2025-02-01T01:22:18.819346Z",
     "iopub.status.busy": "2025-02-01T01:22:18.818963Z",
     "iopub.status.idle": "2025-02-01T01:22:18.846987Z",
     "shell.execute_reply": "2025-02-01T01:22:18.846015Z",
     "shell.execute_reply.started": "2025-02-01T01:22:18.819311Z"
    },
    "trusted": true
   },
   "outputs": [],
   "source": [
    "test=test.drop(['id'],axis=1)\n",
    "test.head()"
   ]
  },
  {
   "cell_type": "code",
   "execution_count": null,
   "metadata": {
    "execution": {
     "iopub.execute_input": "2025-02-01T01:22:22.336014Z",
     "iopub.status.busy": "2025-02-01T01:22:22.335726Z",
     "iopub.status.idle": "2025-02-01T01:22:22.370079Z",
     "shell.execute_reply": "2025-02-01T01:22:22.369252Z",
     "shell.execute_reply.started": "2025-02-01T01:22:22.335994Z"
    },
    "trusted": true
   },
   "outputs": [],
   "source": [
    "import re\n",
    "train = train.rename(columns = lambda x:re.sub('[^A-Za-z0-9]+', '_', x))\n",
    "train.head()"
   ]
  },
  {
   "cell_type": "code",
   "execution_count": null,
   "metadata": {
    "execution": {
     "iopub.execute_input": "2025-02-01T01:22:22.625371Z",
     "iopub.status.busy": "2025-02-01T01:22:22.625082Z",
     "iopub.status.idle": "2025-02-01T01:22:23.226246Z",
     "shell.execute_reply": "2025-02-01T01:22:23.225287Z",
     "shell.execute_reply.started": "2025-02-01T01:22:22.62535Z"
    },
    "trusted": true
   },
   "outputs": [],
   "source": [
    "test = test.rename(columns = lambda x:re.sub('[^A-Za-z0-9]+', '_', x))\n",
    "test.head()"
   ]
  },
  {
   "cell_type": "code",
   "execution_count": null,
   "metadata": {
    "execution": {
     "iopub.execute_input": "2025-02-01T01:22:25.921456Z",
     "iopub.status.busy": "2025-02-01T01:22:25.921168Z",
     "iopub.status.idle": "2025-02-01T01:22:26.022224Z",
     "shell.execute_reply": "2025-02-01T01:22:26.021443Z",
     "shell.execute_reply.started": "2025-02-01T01:22:25.921429Z"
    },
    "trusted": true
   },
   "outputs": [],
   "source": [
    "train.isnull().sum()"
   ]
  },
  {
   "cell_type": "code",
   "execution_count": null,
   "metadata": {
    "execution": {
     "iopub.execute_input": "2025-02-01T01:22:26.196357Z",
     "iopub.status.busy": "2025-02-01T01:22:26.196079Z",
     "iopub.status.idle": "2025-02-01T01:22:26.292466Z",
     "shell.execute_reply": "2025-02-01T01:22:26.291656Z",
     "shell.execute_reply.started": "2025-02-01T01:22:26.196336Z"
    },
    "trusted": true
   },
   "outputs": [],
   "source": [
    "round(train.isnull().sum()*100/len(train),2)"
   ]
  },
  {
   "cell_type": "code",
   "execution_count": null,
   "metadata": {
    "execution": {
     "iopub.execute_input": "2025-02-01T01:22:29.641698Z",
     "iopub.status.busy": "2025-02-01T01:22:29.641355Z",
     "iopub.status.idle": "2025-02-01T01:22:29.744235Z",
     "shell.execute_reply": "2025-02-01T01:22:29.743356Z",
     "shell.execute_reply.started": "2025-02-01T01:22:29.641672Z"
    },
    "trusted": true
   },
   "outputs": [],
   "source": [
    "train[train.isna().any(axis=1)].head()"
   ]
  },
  {
   "cell_type": "code",
   "execution_count": null,
   "metadata": {
    "execution": {
     "iopub.execute_input": "2025-02-01T01:22:29.942576Z",
     "iopub.status.busy": "2025-02-01T01:22:29.942269Z",
     "iopub.status.idle": "2025-02-01T01:22:29.99662Z",
     "shell.execute_reply": "2025-02-01T01:22:29.995862Z",
     "shell.execute_reply.started": "2025-02-01T01:22:29.942529Z"
    },
    "trusted": true
   },
   "outputs": [],
   "source": [
    "train.describe().apply(lambda s: s.apply(lambda x: format(x, 'g')))"
   ]
  },
  {
   "cell_type": "code",
   "execution_count": null,
   "metadata": {
    "execution": {
     "iopub.execute_input": "2025-02-01T01:22:35.183768Z",
     "iopub.status.busy": "2025-02-01T01:22:35.183421Z",
     "iopub.status.idle": "2025-02-01T01:22:35.299736Z",
     "shell.execute_reply": "2025-02-01T01:22:35.298867Z",
     "shell.execute_reply.started": "2025-02-01T01:22:35.183741Z"
    },
    "trusted": true
   },
   "outputs": [],
   "source": [
    "counter=0\n",
    "for i in test.select_dtypes(include=['object']).columns.tolist():\n",
    "    if (len(list(set(train[i].unique().tolist())^set(test[i].unique().tolist())))!=0):\n",
    "        print(i ,'need to be worked on')\n",
    "        counter+=1\n",
    "    else:\n",
    "        continue\n",
    "if(counter==0):\n",
    "    print('No work needed')"
   ]
  },
  {
   "cell_type": "code",
   "execution_count": null,
   "metadata": {
    "execution": {
     "iopub.execute_input": "2025-02-01T01:22:36.405322Z",
     "iopub.status.busy": "2025-02-01T01:22:36.405024Z",
     "iopub.status.idle": "2025-02-01T01:22:36.432007Z",
     "shell.execute_reply": "2025-02-01T01:22:36.431239Z",
     "shell.execute_reply.started": "2025-02-01T01:22:36.405299Z"
    },
    "trusted": true
   },
   "outputs": [],
   "source": [
    "train[test.select_dtypes(include=['object']).columns.tolist()].head()"
   ]
  },
  {
   "cell_type": "code",
   "execution_count": null,
   "metadata": {
    "execution": {
     "iopub.execute_input": "2025-02-01T01:22:39.060104Z",
     "iopub.status.busy": "2025-02-01T01:22:39.059798Z",
     "iopub.status.idle": "2025-02-01T01:22:39.086991Z",
     "shell.execute_reply": "2025-02-01T01:22:39.086009Z",
     "shell.execute_reply.started": "2025-02-01T01:22:39.06008Z"
    },
    "trusted": true
   },
   "outputs": [],
   "source": [
    "Brand=train['Brand'].value_counts().to_frame()\n",
    "Brand.reset_index()"
   ]
  },
  {
   "cell_type": "code",
   "execution_count": null,
   "metadata": {
    "execution": {
     "iopub.execute_input": "2025-02-01T01:22:41.315515Z",
     "iopub.status.busy": "2025-02-01T01:22:41.315208Z",
     "iopub.status.idle": "2025-02-01T01:22:41.341333Z",
     "shell.execute_reply": "2025-02-01T01:22:41.340655Z",
     "shell.execute_reply.started": "2025-02-01T01:22:41.315493Z"
    },
    "trusted": true
   },
   "outputs": [],
   "source": [
    "Material=train['Material'].value_counts().to_frame()\n",
    "Material.reset_index()"
   ]
  },
  {
   "cell_type": "code",
   "execution_count": null,
   "metadata": {
    "execution": {
     "iopub.execute_input": "2025-02-01T01:22:42.552489Z",
     "iopub.status.busy": "2025-02-01T01:22:42.552209Z",
     "iopub.status.idle": "2025-02-01T01:22:42.578134Z",
     "shell.execute_reply": "2025-02-01T01:22:42.577281Z",
     "shell.execute_reply.started": "2025-02-01T01:22:42.552466Z"
    },
    "trusted": true
   },
   "outputs": [],
   "source": [
    "Size=train['Size'].value_counts().to_frame()\n",
    "Size.reset_index()"
   ]
  },
  {
   "cell_type": "code",
   "execution_count": null,
   "metadata": {
    "execution": {
     "iopub.execute_input": "2025-02-01T01:22:45.636073Z",
     "iopub.status.busy": "2025-02-01T01:22:45.635755Z",
     "iopub.status.idle": "2025-02-01T01:22:45.663Z",
     "shell.execute_reply": "2025-02-01T01:22:45.662221Z",
     "shell.execute_reply.started": "2025-02-01T01:22:45.636048Z"
    },
    "trusted": true
   },
   "outputs": [],
   "source": [
    "Laptop_Compartment=train['Laptop_Compartment'].value_counts().to_frame()\n",
    "Laptop_Compartment.reset_index()"
   ]
  },
  {
   "cell_type": "code",
   "execution_count": null,
   "metadata": {
    "execution": {
     "iopub.execute_input": "2025-02-01T01:22:45.844344Z",
     "iopub.status.busy": "2025-02-01T01:22:45.844068Z",
     "iopub.status.idle": "2025-02-01T01:22:45.870073Z",
     "shell.execute_reply": "2025-02-01T01:22:45.869237Z",
     "shell.execute_reply.started": "2025-02-01T01:22:45.844323Z"
    },
    "trusted": true
   },
   "outputs": [],
   "source": [
    "Waterproof=train['Waterproof'].value_counts().to_frame()\n",
    "Waterproof.reset_index()"
   ]
  },
  {
   "cell_type": "code",
   "execution_count": null,
   "metadata": {
    "execution": {
     "iopub.execute_input": "2025-02-01T01:22:48.020858Z",
     "iopub.status.busy": "2025-02-01T01:22:48.020546Z",
     "iopub.status.idle": "2025-02-01T01:22:48.046764Z",
     "shell.execute_reply": "2025-02-01T01:22:48.045901Z",
     "shell.execute_reply.started": "2025-02-01T01:22:48.020837Z"
    },
    "trusted": true
   },
   "outputs": [],
   "source": [
    "Style=train['Style'].value_counts().to_frame()\n",
    "Style.reset_index()"
   ]
  },
  {
   "cell_type": "code",
   "execution_count": null,
   "metadata": {
    "execution": {
     "iopub.execute_input": "2025-02-01T01:22:49.788591Z",
     "iopub.status.busy": "2025-02-01T01:22:49.788254Z",
     "iopub.status.idle": "2025-02-01T01:22:49.814917Z",
     "shell.execute_reply": "2025-02-01T01:22:49.814171Z",
     "shell.execute_reply.started": "2025-02-01T01:22:49.788543Z"
    },
    "trusted": true
   },
   "outputs": [],
   "source": [
    "Color=train['Color'].value_counts().to_frame()\n",
    "Color.reset_index()\t\t\t"
   ]
  },
  {
   "cell_type": "code",
   "execution_count": null,
   "metadata": {
    "execution": {
     "iopub.execute_input": "2025-02-01T01:22:49.978429Z",
     "iopub.status.busy": "2025-02-01T01:22:49.978138Z",
     "iopub.status.idle": "2025-02-01T01:22:50.201587Z",
     "shell.execute_reply": "2025-02-01T01:22:50.200858Z",
     "shell.execute_reply.started": "2025-02-01T01:22:49.978408Z"
    },
    "trusted": true
   },
   "outputs": [],
   "source": [
    "train.duplicated().value_counts()"
   ]
  },
  {
   "cell_type": "code",
   "execution_count": null,
   "metadata": {
    "execution": {
     "iopub.execute_input": "2025-02-01T01:22:50.728792Z",
     "iopub.status.busy": "2025-02-01T01:22:50.728429Z",
     "iopub.status.idle": "2025-02-01T01:22:50.75075Z",
     "shell.execute_reply": "2025-02-01T01:22:50.75Z",
     "shell.execute_reply.started": "2025-02-01T01:22:50.728764Z"
    },
    "trusted": true
   },
   "outputs": [],
   "source": [
    "label = 'Price'\n",
    "train[label].describe()"
   ]
  },
  {
   "cell_type": "code",
   "execution_count": null,
   "metadata": {
    "execution": {
     "iopub.execute_input": "2025-02-01T01:22:55.353044Z",
     "iopub.status.busy": "2025-02-01T01:22:55.352757Z",
     "iopub.status.idle": "2025-02-01T01:22:56.333055Z",
     "shell.execute_reply": "2025-02-01T01:22:56.332355Z",
     "shell.execute_reply.started": "2025-02-01T01:22:55.353024Z"
    },
    "trusted": true
   },
   "outputs": [],
   "source": [
    "from autogluon.tabular import TabularDataset, TabularPredictor"
   ]
  },
  {
   "cell_type": "code",
   "execution_count": null,
   "metadata": {
    "execution": {
     "iopub.execute_input": "2025-02-01T01:25:23.80722Z",
     "iopub.status.busy": "2025-02-01T01:25:23.806903Z",
     "iopub.status.idle": "2025-02-01T02:36:53.050014Z",
     "shell.execute_reply": "2025-02-01T02:36:53.049041Z",
     "shell.execute_reply.started": "2025-02-01T01:25:23.807195Z"
    },
    "trusted": true
   },
   "outputs": [],
   "source": [
    "predictor = TabularPredictor(label=label,eval_metric ='rmse',\n",
    "                            problem_type=\"regression\").fit( train,\n",
    "                                                            time_limit=3600*1,verbosity=3,\n",
    "                                                            presets='best_quality',  # Ensures deep learning models are used\n",
    "                                                            ag_args_fit={'num_gpus': 1})  # Forces GPU usage\n",
    "results = predictor.fit_summary()"
   ]
  },
  {
   "cell_type": "code",
   "execution_count": null,
   "metadata": {
    "execution": {
     "iopub.execute_input": "2025-02-01T02:36:53.051975Z",
     "iopub.status.busy": "2025-02-01T02:36:53.05124Z",
     "iopub.status.idle": "2025-02-01T02:36:53.070939Z",
     "shell.execute_reply": "2025-02-01T02:36:53.070104Z",
     "shell.execute_reply.started": "2025-02-01T02:36:53.051948Z"
    },
    "trusted": true
   },
   "outputs": [],
   "source": [
    "predictor.leaderboard()"
   ]
  },
  {
   "cell_type": "code",
   "execution_count": null,
   "metadata": {
    "execution": {
     "iopub.execute_input": "2025-02-01T02:36:53.072914Z",
     "iopub.status.busy": "2025-02-01T02:36:53.072689Z",
     "iopub.status.idle": "2025-02-01T02:37:53.13314Z",
     "shell.execute_reply": "2025-02-01T02:37:53.132023Z",
     "shell.execute_reply.started": "2025-02-01T02:36:53.072895Z"
    },
    "trusted": true
   },
   "outputs": [],
   "source": [
    "df = predictor.predict(test).to_frame(name=label)\n",
    "df.head()"
   ]
  },
  {
   "cell_type": "code",
   "execution_count": null,
   "metadata": {
    "execution": {
     "iopub.execute_input": "2025-02-01T02:37:53.135552Z",
     "iopub.status.busy": "2025-02-01T02:37:53.134421Z",
     "iopub.status.idle": "2025-02-01T02:37:53.195642Z",
     "shell.execute_reply": "2025-02-01T02:37:53.194806Z",
     "shell.execute_reply.started": "2025-02-01T02:37:53.135501Z"
    },
    "trusted": true
   },
   "outputs": [],
   "source": [
    "sol=pd.read_csv('/kaggle/input/playground-series-s5e2/sample_submission.csv')\n",
    "sol.head()"
   ]
  },
  {
   "cell_type": "code",
   "execution_count": null,
   "metadata": {
    "execution": {
     "iopub.execute_input": "2025-02-01T02:37:53.196606Z",
     "iopub.status.busy": "2025-02-01T02:37:53.196347Z",
     "iopub.status.idle": "2025-02-01T02:37:53.204231Z",
     "shell.execute_reply": "2025-02-01T02:37:53.203511Z",
     "shell.execute_reply.started": "2025-02-01T02:37:53.196576Z"
    },
    "trusted": true
   },
   "outputs": [],
   "source": [
    "sol['Price']=df[label]\n",
    "sol.head()"
   ]
  },
  {
   "cell_type": "code",
   "execution_count": null,
   "metadata": {
    "execution": {
     "iopub.execute_input": "2025-02-01T02:37:53.205296Z",
     "iopub.status.busy": "2025-02-01T02:37:53.205064Z",
     "iopub.status.idle": "2025-02-01T02:37:53.496433Z",
     "shell.execute_reply": "2025-02-01T02:37:53.495777Z",
     "shell.execute_reply.started": "2025-02-01T02:37:53.205277Z"
    },
    "trusted": true
   },
   "outputs": [],
   "source": [
    "sol.to_csv('1-autog.csv',index=False)"
   ]
  },
  {
   "cell_type": "code",
   "execution_count": null,
   "metadata": {
    "trusted": true
   },
   "outputs": [],
   "source": []
  }
 ],
 "metadata": {
  "kaggle": {
   "accelerator": "gpu",
   "dataSources": [
    {
     "databundleVersionId": 10951356,
     "sourceId": 90274,
     "sourceType": "competition"
    }
   ],
   "dockerImageVersionId": 30839,
   "isGpuEnabled": true,
   "isInternetEnabled": false,
   "language": "python",
   "sourceType": "notebook"
  },
  "kernelspec": {
   "display_name": "Python 3",
   "language": "python",
   "name": "python3"
  },
  "language_info": {
   "codemirror_mode": {
    "name": "ipython",
    "version": 3
   },
   "file_extension": ".py",
   "mimetype": "text/x-python",
   "name": "python",
   "nbconvert_exporter": "python",
   "pygments_lexer": "ipython3",
   "version": "3.10.12"
  }
 },
 "nbformat": 4,
 "nbformat_minor": 4
}
